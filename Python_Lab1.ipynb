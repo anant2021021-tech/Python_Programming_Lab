{
 "cells": [
  {
   "cell_type": "code",
   "execution_count": 3,
   "id": "faaba92f-1343-402d-a790-170ee9cbfe80",
   "metadata": {},
   "outputs": [
    {
     "name": "stdout",
     "output_type": "stream",
     "text": [
      "Original list: [(1, 3), (2, 2), (5, 1), (7, 4), (3, 0)]\n",
      "Sorted list : [(3, 0), (5, 1), (2, 2), (1, 3), (7, 4)]\n"
     ]
    }
   ],
   "source": [
    "# Write a Python program to get sorted list in increasing order for last element from tuples in list.\n",
    "\n",
    "def last_element(t):\n",
    "    return t[-1]\n",
    "tuple_list = [(1, 3), (2, 2), (5, 1), (7, 4), (3, 0)]\n",
    "sorted_list = sorted(tuple_list, key=last_element)\n",
    "\n",
    "print(\"Original list:\", tuple_list)\n",
    "print(\"Sorted list :\", sorted_list)\n",
    "\n"
   ]
  },
  {
   "cell_type": "code",
   "execution_count": 5,
   "id": "92caf576-5d7e-4e73-a728-8325efc093ab",
   "metadata": {},
   "outputs": [
    {
     "name": "stdout",
     "output_type": "stream",
     "text": [
      "Original String: Puppy\n",
      "Modified String: Puppy\n"
     ]
    }
   ],
   "source": [
    "#Write a Python program to get a string from a given string where all occurrences of its first char have been changed to '$', except the first char itself. Sample String: 'restart'.\n",
    "\n",
    "str=\"Puppy\"\n",
    "first_char = str[0]\n",
    "modified = first_char + str[1:].replace(first_char, '$')\n",
    "\n",
    "print(\"Original String:\",str)\n",
    "print(\"Modified String:\", modified)\n"
   ]
  },
  {
   "cell_type": "code",
   "execution_count": 12,
   "id": "c9c7120e-0fab-4c3c-b30b-90eea3d55231",
   "metadata": {},
   "outputs": [
    {
     "name": "stdout",
     "output_type": "stream",
     "text": [
      "Original String: The lyrics is not that poor!\n",
      "Resulting String: The lyrics is good!\n"
     ]
    }
   ],
   "source": [
    "#Write a Python program to find the first appearance of the substring 'not' and 'poor' from a given string, if 'bad' follows the 'poor', replace the whole 'not'...'poor' substring with 'good'. Return the resulting string.\n",
    "def not_poor_replace(s):\n",
    "    not_index = s.find(\"not\")\n",
    "    poor_index = s.find(\"poor\")\n",
    "\n",
    "    \n",
    "    if not_index != -1 and poor_index != -1 and poor_index > not_index:\n",
    "        s = s[:not_index] + \"good\" + s[poor_index + 4:]\n",
    "    return s\n",
    "\n",
    "\n",
    "sample = \"The lyrics is not that poor!\"\n",
    "result = not_poor_replace(sample)\n",
    "\n",
    "print(\"Original String:\", sample)\n",
    "print(\"Resulting String:\", result)\n"
   ]
  },
  {
   "cell_type": "code",
   "execution_count": 13,
   "id": "9586460f-8bfd-4b39-b4bd-ffba18324620",
   "metadata": {},
   "outputs": [
    {
     "name": "stdout",
     "output_type": "stream",
     "text": [
      "Sorted dictionary by values: {'banana': 1, 'date': 2, 'apple': 3, 'cherry': 5}\n"
     ]
    }
   ],
   "source": [
    "#WAP in python to sort dictonary by it's values.\n",
    "my_dict = {'apple': 3, 'banana': 1, 'cherry': 5, 'date': 2}\n",
    "\n",
    "sorted_dict = dict(sorted(my_dict.items(), key=lambda item: item[1]))\n",
    "print(\"Sorted dictionary by values:\", sorted_dict)\n"
   ]
  },
  {
   "cell_type": "code",
   "execution_count": 14,
   "id": "569f503c-5b57-47ed-b148-4da95ebc1e31",
   "metadata": {},
   "outputs": [
    {
     "name": "stdout",
     "output_type": "stream",
     "text": [
      "Original dictionary: {'name': 'Alice', 'age': 25}\n",
      "Dictionary after adding key: {'name': 'Alice', 'age': 25, 'city': 'New York'}\n"
     ]
    }
   ],
   "source": [
    "# WAP in python to add key to dictionary.\n",
    "my_dict = {'name': 'Alice', 'age': 25}\n",
    "print(\"Original dictionary:\", my_dict)\n",
    "my_dict['city'] = 'New York'\n",
    "\n",
    "print(\"Dictionary after adding key:\", my_dict)\n"
   ]
  },
  {
   "cell_type": "code",
   "execution_count": null,
   "id": "306bc155-4327-4deb-bf79-be63d29400a4",
   "metadata": {},
   "outputs": [],
   "source": []
  },
  {
   "cell_type": "code",
   "execution_count": null,
   "id": "a9439314-161f-4365-834e-8c5f902b8973",
   "metadata": {},
   "outputs": [],
   "source": []
  }
 ],
 "metadata": {
  "kernelspec": {
   "display_name": "Python 3 (ipykernel)",
   "language": "python",
   "name": "python3"
  },
  "language_info": {
   "codemirror_mode": {
    "name": "ipython",
    "version": 3
   },
   "file_extension": ".py",
   "mimetype": "text/x-python",
   "name": "python",
   "nbconvert_exporter": "python",
   "pygments_lexer": "ipython3",
   "version": "3.12.7"
  }
 },
 "nbformat": 4,
 "nbformat_minor": 5
}
