{
 "cells": [
  {
   "cell_type": "code",
   "execution_count": 13,
   "id": "638737b2-c5b0-4094-86c0-486c803d31d3",
   "metadata": {},
   "outputs": [
    {
     "name": "stdin",
     "output_type": "stream",
     "text": [
      "Enter a number:  100\n"
     ]
    },
    {
     "name": "stdout",
     "output_type": "stream",
     "text": [
      "  2   3   5   7  11\n",
      " 53  59  61  67  13\n",
      " 47  89  97  71  17\n",
      " 43  83  79  73  19\n",
      " 41  37  31  29  23\n"
     ]
    }
   ],
   "source": [
    "# WAP in python Generate all prime numbers less than 100.Print them in a spiral format (like a clockwise square spiral) of minimal size that fits all primes.\n",
    "\n",
    "'''\n",
    "First we solve to get all  the prime numbers under 100 and store them in a list.\n",
    "\n",
    "'''\n",
    "import math\n",
    "\n",
    "def primes_under_n(n):\n",
    "    primes = []\n",
    "    for num in range(2, n): \n",
    "        is_prime = True\n",
    "        for i in range(2, int(math.sqrt(num)) + 1):\n",
    "            if num % i == 0:\n",
    "                is_prime = False\n",
    "                break\n",
    "        if is_prime:\n",
    "            primes.append(num)\n",
    "    return sorted(primes)\n",
    "    \n",
    "n = int(input(\"Enter a number: \"))\n",
    "result = primes_under_n(n)\n",
    "sqrt_val = math.sqrt(len(result))\n",
    "m = math.ceil(sqrt_val)\n",
    "\n",
    "'''\n",
    "\n",
    "After calculating the reslut list can used to form simple spiral in clockwise direction in m rows.\n",
    "\n",
    "'''\n",
    "\n",
    "def spiral_from_list(n, values):\n",
    "    \"\"\"Fill an n x n grid with values in clockwise spiral order.\"\"\"\n",
    "    grid = [[\"\" for _ in range(n)] for _ in range(n)]\n",
    "    top, bottom, left, right = 0, n-1, 0, n-1\n",
    "    idx = 0\n",
    "    total = len(values)\n",
    "\n",
    "    while left <= right and top <= bottom and idx < total:\n",
    "        # Top row\n",
    "        for c in range(left, right+1):\n",
    "            if idx < total:\n",
    "                grid[top][c] = values[idx]\n",
    "                idx += 1\n",
    "        top += 1\n",
    "\n",
    "        # Right column\n",
    "        for r in range(top, bottom+1):\n",
    "            if idx < total:\n",
    "                grid[r][right] = values[idx]\n",
    "                idx += 1\n",
    "        right -= 1\n",
    "\n",
    "        # Bottom row\n",
    "        for c in range(right, left-1, -1):\n",
    "            if idx < total:\n",
    "                grid[bottom][c] = values[idx]\n",
    "                idx += 1\n",
    "        bottom -= 1\n",
    "\n",
    "        # Left column\n",
    "        for r in range(bottom, top-1, -1):\n",
    "            if idx < total:\n",
    "                grid[r][left] = values[idx]\n",
    "                idx += 1\n",
    "        left += 1\n",
    "\n",
    "    return grid\n",
    "\n",
    "def print_grid(grid):\n",
    "    for row in grid:\n",
    "        print(\" \".join(str(x).rjust(3) for x in row))\n",
    "\n",
    "\n",
    "grid = spiral_from_list(m, result)\n",
    "print_grid(grid)\n",
    "\n"
   ]
  },
  {
   "cell_type": "code",
   "execution_count": 14,
   "id": "4a65eb0c-498c-4af1-b971-40a62575c14d",
   "metadata": {},
   "outputs": [
    {
     "name": "stdout",
     "output_type": "stream",
     "text": [
      "Hourly Views (each * = 5 views)\n",
      "\n",
      "00: ** (12)\n",
      "01: ***** (25)\n",
      "02: * (5)\n",
      "03: ******** (40)\n",
      "04:  (0)\n",
      "05: ****** (33)\n",
      "06: *** (18)\n",
      "07: ********** (50)\n",
      "08: ************ (60)\n",
      "09: ********* (45)\n",
      "10: **** (20)\n",
      "11: ** (10)\n",
      "12: * (5)\n",
      "13: *** (15)\n",
      "14: **** (22)\n",
      "15: ***** (27)\n",
      "16: ******* (35)\n",
      "17: ****** (30)\n",
      "18: ** (12)\n",
      "19: *** (18)\n",
      "20: * (8)\n",
      "21: * (5)\n",
      "22:  (2)\n",
      "23:  (0)\n"
     ]
    }
   ],
   "source": [
    "# You are a data analyst at a streaming platform, managing user interactions, analytics,and daily operations. Use a for loop to create a text-based graph of hourly views. Forexample, use * to represent every 5 views.\n",
    "'''\n",
    "The number of hourly is take for a day(24 hours) so 24 entries.\n",
    "\n",
    "'''\n",
    "hourly_views = [12, 25, 5, 40, 0, 33, 18, 50, 60, 45, 20, 10,\n",
    "                5, 15, 22, 27, 35, 30, 12, 18, 8, 5, 2, 0]\n",
    "\n",
    "print(\"Hourly Views (each * = 5 views)\\n\")\n",
    "\n",
    "for hour, views in enumerate(hourly_views):\n",
    "    stars = \"*\" * (views // 5)   # 1 star for every 5 views\n",
    "    print(f\"{hour:02d}: {stars} ({views})\")\n"
   ]
  },
  {
   "cell_type": "code",
   "execution_count": 12,
   "id": "d3040e92-1ad9-415a-8b59-d03097e23c25",
   "metadata": {},
   "outputs": [
    {
     "name": "stdout",
     "output_type": "stream",
     "text": [
      "Total daily revenue = $171.50\n"
     ]
    }
   ],
   "source": [
    "\n",
    "'''\n",
    "Each video watched generates revenue based on ad impressions:\n",
    " First 10 views: $0.50 per view\n",
    " Next 20 views: $0.30 per view\n",
    " Remaining views: $0.10 per view\n",
    "You are given hourly views for the day. Calculate total daily revenue.\n",
    "'''\n",
    "hourly_views = [12, 25, 5, 40, 0, 33, 18, 50, 60, 45, 20, 10,\n",
    "                5, 15, 22, 27, 35, 30, 12, 18, 8, 5, 2, 0]\n",
    "\n",
    "def revenue_from_views(views):\n",
    "    \"\"\"Calculate revenue for given number of views based on tiered pricing.\"\"\"\n",
    "    revenue = 0.0\n",
    "    if views > 0:\n",
    "        # First 10 views\n",
    "        take = min(views, 10)\n",
    "        revenue += take * 0.50\n",
    "        views -= take\n",
    "    if views > 0:\n",
    "        # Next 20 views\n",
    "        take = min(views, 20)\n",
    "        revenue += take * 0.30\n",
    "        views -= take\n",
    "    if views > 0:\n",
    "        # Remaining views\n",
    "        revenue += views * 0.10\n",
    "    return revenue\n",
    "\n",
    "# Calculate daily revenue\n",
    "total_revenue = 0.0\n",
    "for v in hourly_views:\n",
    "    total_revenue += revenue_from_views(v)\n",
    "\n",
    "print(f\"Total daily revenue = ${total_revenue:.2f}\")\n"
   ]
  }
 ],
 "metadata": {
  "kernelspec": {
   "display_name": "Python 3 (ipykernel)",
   "language": "python",
   "name": "python3"
  },
  "language_info": {
   "codemirror_mode": {
    "name": "ipython",
    "version": 3
   },
   "file_extension": ".py",
   "mimetype": "text/x-python",
   "name": "python",
   "nbconvert_exporter": "python",
   "pygments_lexer": "ipython3",
   "version": "3.12.7"
  }
 },
 "nbformat": 4,
 "nbformat_minor": 5
}
