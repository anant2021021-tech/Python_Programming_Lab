{
 "cells": [
  {
   "cell_type": "code",
   "execution_count": 1,
   "id": "379cdbf1-93ea-4b7c-aa37-90d855bafc08",
   "metadata": {},
   "outputs": [
    {
     "name": "stdin",
     "output_type": "stream",
     "text": [
      "Enter the number 54\n"
     ]
    },
    {
     "name": "stdout",
     "output_type": "stream",
     "text": [
      "The given number is positive.\n"
     ]
    }
   ],
   "source": [
    "#WAP in Python to check whether a number is positive negative or zero.\n",
    "n=int(input(\"Enter the number\"))\n",
    "if(n>0):\n",
    "    print(\"The given number is positive.\")\n",
    "elif(n==0):\n",
    "    print(\"The given number is zero.\")\n",
    "else:\n",
    "    print(\"The given number is negative.\")"
   ]
  },
  {
   "cell_type": "code",
   "execution_count": 2,
   "id": "cea33ebf-9814-4b92-a092-c2a8005b2610",
   "metadata": {},
   "outputs": [
    {
     "name": "stdin",
     "output_type": "stream",
     "text": [
      "Enter the number 45\n"
     ]
    },
    {
     "name": "stdout",
     "output_type": "stream",
     "text": [
      "The given number is odd.\n"
     ]
    }
   ],
   "source": [
    "#WAP in python to check whether a number is even or odd.\n",
    "n=int(input(\"Enter the number\"))\n",
    "if(n%2==0):\n",
    "    print(\"The given number is even.\")\n",
    "else:\n",
    "    print(\"The given number is odd.\")"
   ]
  },
  {
   "cell_type": "code",
   "execution_count": 5,
   "id": "270ac321-22eb-473a-86d8-8cadff609f14",
   "metadata": {},
   "outputs": [
    {
     "name": "stdin",
     "output_type": "stream",
     "text": [
      "Enter the number: 45\n",
      "Enter the other number: 54\n"
     ]
    },
    {
     "name": "stdout",
     "output_type": "stream",
     "text": [
      "The larger number is: 54\n"
     ]
    }
   ],
   "source": [
    "#WAP in python to input two numbers and print the largest among them.\n",
    "n=int(input(\"Enter the number:\"))\n",
    "m=int(input(\"Enter the other number:\"))\n",
    "if(m>n):\n",
    "    print(\"The larger number is:\",m)\n",
    "else:\n",
    "    print(\"The larger number is:\",n)"
   ]
  },
  {
   "cell_type": "code",
   "execution_count": 9,
   "id": "e2fe6716-726e-409d-92e1-9b698234cf08",
   "metadata": {},
   "outputs": [
    {
     "name": "stdin",
     "output_type": "stream",
     "text": [
      "Enter the number: -96\n"
     ]
    },
    {
     "name": "stdout",
     "output_type": "stream",
     "text": [
      "The absolute value of n is : 96\n"
     ]
    }
   ],
   "source": [
    "#WAP in pyhton to calculate absolute value of a given number without using abs function.\n",
    "n=int(input(\"Enter the number:\"))\n",
    "if(n<0):\n",
    "    print(\"The absolute value of n is :\",(n)*-1)\n",
    "else:\n",
    "    print(\"The absolute value of n is :\",n)"
   ]
  },
  {
   "cell_type": "code",
   "execution_count": 12,
   "id": "ba762abb-16d5-4e46-acea-4fadabd7789c",
   "metadata": {},
   "outputs": [
    {
     "name": "stdin",
     "output_type": "stream",
     "text": [
      "Enter your age: 7\n"
     ]
    },
    {
     "name": "stdout",
     "output_type": "stream",
     "text": [
      "This person is not eligible to vote.\n"
     ]
    }
   ],
   "source": [
    "#WAP in python to check if a person is eligible to vote or not.(Eligible if his age is grater than 18)\n",
    "n=int(input(\"Enter your age:\"))\n",
    "if(n>=18):\n",
    "    print(\"This person is eligible to vote.\")\n",
    "else:\n",
    "    print(\"This person is not eligible to vote.\")\n"
   ]
  },
  {
   "cell_type": "code",
   "execution_count": 17,
   "id": "9555176a-aa86-4427-8eb5-86250352a00b",
   "metadata": {},
   "outputs": [
    {
     "name": "stdin",
     "output_type": "stream",
     "text": [
      "Enter the year: 2016\n"
     ]
    },
    {
     "name": "stdout",
     "output_type": "stream",
     "text": [
      "It is a leap year.\n"
     ]
    }
   ],
   "source": [
    "#WAP in python to check if it is a leap year or not.\n",
    "n=int(input(\"Enter the year:\"))\n",
    "\n",
    "if(n%400==0) or (n%4==0 and n%100!=0):\n",
    "    print(\"It is a leap year.\")\n",
    "else:\n",
    "    print(\"It is not a leap year.\")"
   ]
  },
  {
   "cell_type": "code",
   "execution_count": 22,
   "id": "45cec316-ad59-4d2b-9033-792bea0ee5f7",
   "metadata": {},
   "outputs": [
    {
     "name": "stdin",
     "output_type": "stream",
     "text": [
      "Enter the marks obtained: 40\n"
     ]
    },
    {
     "name": "stdout",
     "output_type": "stream",
     "text": [
      "PASS\n"
     ]
    }
   ],
   "source": [
    "#WAP in python to check yor passing status.\n",
    "n=int(input(\"Enter the marks obtained:\"))\n",
    "\n",
    "if(n>=40):\n",
    "    print(\"PASS\")\n",
    "else:\n",
    "    print(\"FAIL\")"
   ]
  },
  {
   "cell_type": "code",
   "execution_count": 26,
   "id": "0d98c538-0153-44a3-bdda-fa689358af95",
   "metadata": {},
   "outputs": [
    {
     "name": "stdin",
     "output_type": "stream",
     "text": [
      "Enter the number: 155\n"
     ]
    },
    {
     "name": "stdout",
     "output_type": "stream",
     "text": [
      "It is a multiple of 5.\n"
     ]
    }
   ],
   "source": [
    "#WAP in pyhton to check if a number is multipe of 5 or not.\n",
    "n=int(input(\"Enter the number:\"))\n",
    "\n",
    "if(n%5==0):\n",
    "    print(\"It is a multiple of 5.\")\n",
    "else:\n",
    "    print(\"It is not a multiple of 5.\")"
   ]
  },
  {
   "cell_type": "code",
   "execution_count": 30,
   "id": "3917e4ad-8802-46ec-ae92-5d2ff33aae88",
   "metadata": {},
   "outputs": [
    {
     "name": "stdin",
     "output_type": "stream",
     "text": [
      "Enter the character: G\n"
     ]
    },
    {
     "name": "stdout",
     "output_type": "stream",
     "text": [
      "It is in upper case.\n"
     ]
    }
   ],
   "source": [
    "#WAP a program to take input a character to check it is upper case , lower case or not a letter.\n",
    "n=(input(\"Enter the character:\"))\n",
    "if(n>='A'and n<='Z'):\n",
    "    print(\"It is in upper case.\")\n",
    "elif(n>='a' and n<='z'):\n",
    "    print(\"It is in lower case.\")\n",
    "else:\n",
    "    print(\"It is not a letter.\")"
   ]
  },
  {
   "cell_type": "code",
   "execution_count": 35,
   "id": "6d605b98-313a-4e4c-a1c0-11e4d379eca6",
   "metadata": {},
   "outputs": [
    {
     "name": "stdin",
     "output_type": "stream",
     "text": [
      "Enter the purchase amount: 1100\n"
     ]
    },
    {
     "name": "stdout",
     "output_type": "stream",
     "text": [
      "The final amount is: 990.0\n"
     ]
    }
   ],
   "source": [
    "#WAP in python to calculate discount and total bill amount.\n",
    "n=int(input(\"Enter the purchase amount:\"))\n",
    "if(n>=1000):\n",
    "    print(\"The final amount is:\",(n-(n*0.1)))\n",
    "else:\n",
    "    print(\"The final amount is:\",n)"
   ]
  }
 ],
 "metadata": {
  "kernelspec": {
   "display_name": "Python 3 (ipykernel)",
   "language": "python",
   "name": "python3"
  },
  "language_info": {
   "codemirror_mode": {
    "name": "ipython",
    "version": 3
   },
   "file_extension": ".py",
   "mimetype": "text/x-python",
   "name": "python",
   "nbconvert_exporter": "python",
   "pygments_lexer": "ipython3",
   "version": "3.12.7"
  }
 },
 "nbformat": 4,
 "nbformat_minor": 5
}
